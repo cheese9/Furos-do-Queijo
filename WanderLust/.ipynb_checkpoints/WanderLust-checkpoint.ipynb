{
 "cells": [
  {
   "cell_type": "code",
   "execution_count": 1,
   "metadata": {},
   "outputs": [],
   "source": [
    "import pandas as pd"
   ]
  },
  {
   "cell_type": "code",
   "execution_count": 2,
   "metadata": {},
   "outputs": [],
   "source": [
    "wl = pd.read_excel('1710-1803 Compras Diretas v2.xlsx', header=0)"
   ]
  },
  {
   "cell_type": "code",
   "execution_count": 3,
   "metadata": {},
   "outputs": [
    {
     "data": {
      "text/plain": [
       " Código do órgão superior                                                                                                0\n",
       "                               Nome do órgão superior                                                                    0\n",
       " Código do órgão solicitante da viagem                                                                                   0\n",
       "                                      Nome do órgão solicitante da viagem                                                0\n",
       "    N. PCDP                                                                                                              0\n",
       " N. Reserva/Localizador                                                                                                  0\n",
       "  Data Emissão Bilhete                                                                                                   0\n",
       "    Data Embarque                                                                                                        0\n",
       " Valor Tarifa Comercial                                                                                                  0\n",
       " Percentual Desconto Aplicado                                                                                            0\n",
       " Valor Tarifa Governo                                                                                                    0\n",
       " Valor Tarifa Embarque                                                                                                   0\n",
       " Valor Bilhete                                                                                                           0\n",
       "           Companhia Aérea                                                                                               0\n",
       " Classe Tarifária Bilhete                                                                                                0\n",
       "                                       Regra Tarifária                                                                   0\n",
       " No Show                                                                                                                 0\n",
       " Remarcado                                                                                                               0\n",
       " Cancelado                                                                                                               0\n",
       " Valor Multas                                                                                                            0\n",
       " Valor Reembolso                                                                                                         0\n",
       " Diferença de Tarifa                                                                                                     0\n",
       " Situação Final Bilhete                                                                                                  0\n",
       "Unnamed: 23                                                                                                         142107\n",
       "dtype: int64"
      ]
     },
     "execution_count": 3,
     "metadata": {},
     "output_type": "execute_result"
    }
   ],
   "source": [
    "wl.isnull().sum()"
   ]
  },
  {
   "cell_type": "code",
   "execution_count": 4,
   "metadata": {},
   "outputs": [],
   "source": [
    "wl = wl.drop(wl.columns[[5,14,15,23]], axis=1)"
   ]
  },
  {
   "cell_type": "code",
   "execution_count": 5,
   "metadata": {},
   "outputs": [],
   "source": [
    "wl.columns = ['cod_orgsup','nome_orgsup','cod_orgsol','nome_orgsol','num_pcdp','data_emissao','data_embark','vlr_tarifa_com','percent_desconto','vlr_tarif_gov','vlr_tarifa_embark','vlr_bilhete','comp_aerea','no_show','remark','cancel','vlr_multa','vlr_reemb','dif_tarif','sit_final_bilhete']"
   ]
  },
  {
   "cell_type": "code",
   "execution_count": 6,
   "metadata": {
    "scrolled": true
   },
   "outputs": [],
   "source": [
    "wl['data_emissao'] = pd.to_datetime(wl['data_emissao'], infer_datetime_format=True)\n",
    "wl['data_embark'] = pd.to_datetime(wl['data_embark'], infer_datetime_format=True)"
   ]
  },
  {
   "cell_type": "code",
   "execution_count": 7,
   "metadata": {},
   "outputs": [],
   "source": [
    "wl['ant'] = wl['data_embark'] - wl['data_emissao']"
   ]
  },
  {
   "cell_type": "code",
   "execution_count": 8,
   "metadata": {},
   "outputs": [
    {
     "data": {
      "text/plain": [
       "0         3 days 09:21:24.192000\n",
       "1         1 days 03:26:22.851000\n",
       "2         9 days 19:27:07.673000\n",
       "3         6 days 19:02:01.804000\n",
       "4        20 days 04:58:40.991000\n",
       "5        22 days 05:33:40.586000\n",
       "6        18 days 02:32:42.151000\n",
       "7        16 days 20:35:14.239000\n",
       "8        14 days 20:33:44.282000\n",
       "9        15 days 09:08:43.510000\n",
       "10       10 days 13:52:39.834000\n",
       "11       10 days 23:57:40.417000\n",
       "12        9 days 18:30:19.219000\n",
       "13       10 days 22:18:12.173000\n",
       "14       13 days 04:32:01.929000\n",
       "15       12 days 18:27:05.452000\n",
       "16        2 days 13:07:11.149000\n",
       "17        1 days 20:32:08.303000\n",
       "18        6 days 22:59:57.372000\n",
       "19       15 days 21:54:27.862000\n",
       "20       15 days 09:44:24.600000\n",
       "21       21 days 14:54:25.938000\n",
       "22       36 days 09:45:04.898000\n",
       "23       42 days 15:34:29.661000\n",
       "24       14 days 18:54:56.270000\n",
       "25       12 days 12:47:51.364000\n",
       "26        5 days 04:45:56.245000\n",
       "27        3 days 01:55:48.377000\n",
       "28        5 days 18:28:02.983000\n",
       "29        3 days 01:50:58.122000\n",
       "                   ...          \n",
       "163908    3 days 01:14:40.880000\n",
       "163909    3 days 23:44:26.619000\n",
       "163910    1 days 10:08:43.776000\n",
       "163911    4 days 19:23:26.274000\n",
       "163912   12 days 20:41:27.652000\n",
       "163913    9 days 12:36:26.695000\n",
       "163914   11 days 07:23:38.736000\n",
       "163915    0 days 20:28:21.493000\n",
       "163916    9 days 07:15:38.827000\n",
       "163917    4 days 05:30:26.227000\n",
       "163918   17 days 19:54:23.692000\n",
       "163919   23 days 15:09:33.200000\n",
       "163920   23 days 15:09:38.805000\n",
       "163921   17 days 19:54:19.303000\n",
       "163922   23 days 15:09:39.166000\n",
       "163923   18 days 14:59:36.714000\n",
       "163924    2 days 01:54:28.237000\n",
       "163925   10 days 16:00:29.615000\n",
       "163926   10 days 16:00:38.646000\n",
       "163927   14 days 19:11:29.370000\n",
       "163928    9 days 20:16:34.774000\n",
       "163929   11 days 03:10:29.369000\n",
       "163930   16 days 06:05:27.451000\n",
       "163931   12 days 08:10:39.159000\n",
       "163932   10 days 04:25:39.354000\n",
       "163933    6 days 15:52:37.994000\n",
       "163934   15 days 22:57:27.604000\n",
       "163935   13 days 16:57:40.027000\n",
       "163936   18 days 01:15:19.631000\n",
       "163937   19 days 16:28:37.494000\n",
       "Name: ant, Length: 163938, dtype: timedelta64[ns]"
      ]
     },
     "execution_count": 8,
     "metadata": {},
     "output_type": "execute_result"
    }
   ],
   "source": [
    "wl['ant']"
   ]
  },
  {
   "cell_type": "markdown",
   "metadata": {},
   "source": [
    "# Instrução Normativa Nº3, 11 de Fevereiro de 2015\n",
    "#### Dispõe sobre diretrizes e procedimentos para aquisição de passagens aéreas pela Administração Pública Federal direta, autárquica e fundacional.\n",
    "\n",
    "Art. 14. A unidade administrativa deverá efetuar procedimento de solicitação de proposta de afastamento por meio do S C D P.\n",
    "\n",
    ">§ 1º A solicitação da proposta de afastamento deverá ser realizada de forma a garantir que a reserva dos trechos ocorra com <font color = red>**antecedência mínima de 10 (dez) dias da data prevista de partida**</font>.\n",
    "\n",
    ">§ 2º Nas situações em que não for possível realizar a reserva dos trechos, a <font color = red>**emissão deverá observar a antecedência mínima de 10 (dez) dias da data prevista de partida**</font>.\n",
    "\n",
    "\n",
    "Art. 16. A escolha da melhor tarifa deverá ser realizada considerando o horário e o período da participação do servidor no evento, o tempo de traslado e a otimização do trabalho, visando garantir condição laborativa produtiva, preferencialmente utilizando os seguintes parâmetros:\n",
    "\n",
    ">I - a escolha do voo deve recair prioritariamente em percursos de menor duração, evitando-se, sempre que possível, trechos com escalas e conexões;\n",
    "\n",
    ">II - os horários de partida e de chegada do voo devem estar compreendidos no período entre 7hs e 21hs, salvo a inexistência de voos que atendam a estes horários;\n",
    "\n",
    ">III - em viagens nacionais, deve-se priorizar o horário de chegada do voo que anteceda em no mínimo 3hs o início previsto dos trabalhos, evento ou missão; e\n",
    "\n",
    ">IV - em viagens internacionais, em que a soma dos trechos da origem até o destino ultrapasse 8hs, e que sejam realizadas no período noturno, o embarque, prioritariamente, deverá ocorrer com um dia de antecedência. \n",
    "\n",
    "Parágrafo único. <font color = red>**A escolha da tarifa deve privilegiar o menor preço, prevalecendo, sempre que possível, a tarifa em classe econômica**</font>, observado o disposto neste artigo e no art. 27 do Decreto nº 71.733, de 18 de janeiro de 1973."
   ]
  },
  {
   "cell_type": "code",
   "execution_count": 9,
   "metadata": {},
   "outputs": [],
   "source": [
    "wl['ant'] = wl['ant'].dt.days"
   ]
  },
  {
   "cell_type": "code",
   "execution_count": 10,
   "metadata": {},
   "outputs": [
    {
     "data": {
      "text/plain": [
       "0          3\n",
       "1          1\n",
       "2          9\n",
       "3          6\n",
       "4         20\n",
       "5         22\n",
       "6         18\n",
       "7         16\n",
       "8         14\n",
       "9         15\n",
       "10        10\n",
       "11        10\n",
       "12         9\n",
       "13        10\n",
       "14        13\n",
       "15        12\n",
       "16         2\n",
       "17         1\n",
       "18         6\n",
       "19        15\n",
       "20        15\n",
       "21        21\n",
       "22        36\n",
       "23        42\n",
       "24        14\n",
       "25        12\n",
       "26         5\n",
       "27         3\n",
       "28         5\n",
       "29         3\n",
       "          ..\n",
       "163908     3\n",
       "163909     3\n",
       "163910     1\n",
       "163911     4\n",
       "163912    12\n",
       "163913     9\n",
       "163914    11\n",
       "163915     0\n",
       "163916     9\n",
       "163917     4\n",
       "163918    17\n",
       "163919    23\n",
       "163920    23\n",
       "163921    17\n",
       "163922    23\n",
       "163923    18\n",
       "163924     2\n",
       "163925    10\n",
       "163926    10\n",
       "163927    14\n",
       "163928     9\n",
       "163929    11\n",
       "163930    16\n",
       "163931    12\n",
       "163932    10\n",
       "163933     6\n",
       "163934    15\n",
       "163935    13\n",
       "163936    18\n",
       "163937    19\n",
       "Name: ant, Length: 163938, dtype: int64"
      ]
     },
     "execution_count": 10,
     "metadata": {},
     "output_type": "execute_result"
    }
   ],
   "source": [
    "wl_maior = wl[(wl.ant.int)]"
   ]
  },
  {
   "cell_type": "code",
   "execution_count": null,
   "metadata": {},
   "outputs": [],
   "source": []
  }
 ],
 "metadata": {
  "kernelspec": {
   "display_name": "Python 3",
   "language": "python",
   "name": "python3"
  },
  "language_info": {
   "codemirror_mode": {
    "name": "ipython",
    "version": 3
   },
   "file_extension": ".py",
   "mimetype": "text/x-python",
   "name": "python",
   "nbconvert_exporter": "python",
   "pygments_lexer": "ipython3",
   "version": "3.6.4"
  }
 },
 "nbformat": 4,
 "nbformat_minor": 2
}
